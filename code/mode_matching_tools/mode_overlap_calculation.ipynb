{
 "cells": [
  {
   "cell_type": "code",
   "execution_count": 7,
   "metadata": {},
   "outputs": [],
   "source": [
    "import numpy as np"
   ]
  },
  {
   "cell_type": "markdown",
   "metadata": {},
   "source": [
    "## Mode overlap calculation"
   ]
  },
  {
   "cell_type": "markdown",
   "metadata": {},
   "source": [
    "### The generalized beam overlap equation is given by the following:\n",
    "\n",
    "$$ \\eta = \\frac{\\mid \\int E^{*}_1 E_{2} dA\\mid ^{2}}{\\int \\mid E_1\\mid ^2 dA \\int \\mid E_2 \\mid  ^2 dA}$$ \n",
    "<a href=\"https://www.rp-photonics.com/mode_matching.html\">REF</a>"
   ]
  },
  {
   "cell_type": "markdown",
   "metadata": {},
   "source": [
    "The general form of the Gaussian beam:\n",
    "\n",
    "$$ E(\\vec{r}) = A_o \\frac{W_o}{W(z)} e^{-\\rho^2/W^2(z)} e^{-ikz - ik (\\rho^2/2R(z)) -i \\zeta(z)} $$\n",
    "\n",
    "Where: \n",
    "* $A_o$ is the complex amplitude of the field\n",
    "* $W_o$ is the beam waist size\n",
    "* $W(z)$ is the beam size as a function of z:\n",
    "$W_(z) = W_o \\sqrt{(1 + (\\frac{z}{z_r})^2)}$ (where z_r is the rayleigh length)\n",
    "* $\\rho(x,y) = \\sqrt{x^2 + y^2}$ \n",
    "* $R(z) = z(1 + (\\frac{z_r}{z})^2)$ is the radius of curvature of the the wavefront\n",
    "* $\\zeta(z)$ = tan$^{-1}(\\frac{z}{z_r})$ is the gouy phase"
   ]
  },
  {
   "cell_type": "markdown",
   "metadata": {},
   "source": [
    "When we are mode matching, the simplest way to represent the incoming beam mode and the cavity mode is to identify their waist sizes and positions.\n",
    "If we install the cavity so that the cavity waist ($W_\\mathrm{cav}$) is at the same position as the input beam waist ($W_\\mathrm{inp}$) then we can drastically simplify our above expression for the field.\n",
    "\n",
    "At the waist we can assume:\n",
    "* z = 0\n",
    "* $\\zeta(z) = 0$\n",
    "* $R(z) = \\infty$ (if you are not convinced, try using the L'hospital rule)\n",
    "* $W(z) = W_o$\n",
    "\n"
   ]
  },
  {
   "cell_type": "markdown",
   "metadata": {},
   "source": [
    "With the above information, we now define $E(\\rho, z= 0)$:\n",
    "$$E(\\rho, z= 0) = A_o e^{-\\frac{\\rho^2}{W^2_o}}$$\n",
    "\n",
    "\n",
    "Now using this form of the field let us compute the mode overlap equation ($\\eta$) with fields ($E_1$ and $E_2$) with different waist sizes ($W_1$ and $W_2$):\n",
    "$E_1 = A_1 e^{-\\frac{x^2}{W^2_{1x}}-\\frac{y^2}{W^2_{1y}}}$\n",
    "and \n",
    "$E_2 = A_2 e^{-\\frac{x^2}{W^2_{2x}}-\\frac{y^2}{W^2_{2y}}}$\n",
    "\n"
   ]
  },
  {
   "cell_type": "markdown",
   "metadata": {},
   "source": [
    "This leads us to the following equation equation for $\\eta$:\n",
    "\n",
    "$$\\eta = \\frac{\\bigl\\rvert \\int A_1^{*}A_2 e^{-x^2(1/W^2_{1x} + 1/W^2_{2x}) - y^2(1/W^2_{1y} + 1/W^2_{2y})}dA \\bigr\\rvert ^2}{\\int \\mid A_1\\mid ^{2} e^{-2x^2/W^2_1x-2y^2/W^2_1y}dA \\int \\mid A_2\\mid ^{2} e^{-2x^2/W^2_2x-2y^2/W^2_2y}dA}$$\n"
   ]
  },
  {
   "cell_type": "markdown",
   "metadata": {},
   "source": [
    "The complex constants get squared and are canceled out as they are taking out of the integrals.\n",
    "\n",
    "$$\\eta = \\frac{\\bigl\\rvert \\int e^{-x^2((W^2_{2x} + W^2_{1x})/W^2_{1x}W^2_{2x}) - y^2((W^2_{2y} + W^2_{1y})/W^2_{1y}W^2_{2y})}dA \\bigr\\rvert ^2}{\\int e^{-2x^2/W^2_{1x}-2y^2/W^2_{1y}}dA \\int e^{-2x^2/W^2_{2x}-2y^2/W^2_{2y}}dA}$$\n",
    "\n"
   ]
  },
  {
   "cell_type": "markdown",
   "metadata": {},
   "source": [
    "And combining the separated argments of the exponentials we can solve these three gaussian integrals of the form:\n",
    "$$ \\int_{-\\infty}^{\\infty}x^{-ax^2} dx = \\sqrt{\\frac{\\pi}{2}}$$"
   ]
  },
  {
   "cell_type": "markdown",
   "metadata": {},
   "source": [
    "After performing the gaussian integrals, we yield the following:\n",
    "\n",
    "$$\\eta = \\frac{\\biggl\\rvert \\sqrt{\\pi W^2_{1x}W^2_{2x}/(W^2_{2x} + W^2_{1x})}\\sqrt{\\pi W^2_{1y}W^2_{2y}/(W^2_{2y} + W^2_{1y})} \\biggr\\rvert ^2}{\\sqrt{\\pi W^2_{1x}/2} \\sqrt{\\pi W^2_{1y}/2}\\sqrt{\\pi W^2_{2x}/2}\\sqrt{\\pi W^2_{2y}/2}} $$"
   ]
  },
  {
   "cell_type": "markdown",
   "metadata": {},
   "source": [
    "Simplify:\n",
    "$$\\eta = \\frac{ 4 \\big[W^2_{1x}W^2_{2x}/(W^2_{2x} + W^2_{1x})\\big] \\big[W^2_{1y}W^2_{2y}/(W^2_{2y} + W^2_{1y})\\big]}{W_{1x} W_{1y}W_{2x}W_{2y}}$$"
   ]
  },
  {
   "cell_type": "markdown",
   "metadata": {},
   "source": [
    "Simplify further:\n",
    "$$\\eta = \\frac{ 4 W_{1x}W_{2x} W_{1y}W_{2y}}{(W^2_{2x} + W^2_{1x})(W^2_{2y} + W^2_{1y})}$$"
   ]
  },
  {
   "cell_type": "markdown",
   "metadata": {},
   "source": [
    "This is the generalized form of the mode overlap equation assuming an astigmatic beam and cavity"
   ]
  },
  {
   "cell_type": "markdown",
   "metadata": {},
   "source": [
    "If we frame the problem so that $W_{1(x,y)}$ is the horizontal and vertical input beam waist respectively and  $W_{2(x,y)}$ is the horizontal and vertical waist of the cavity beam respectively."
   ]
  },
  {
   "cell_type": "markdown",
   "metadata": {},
   "source": [
    "## Example (Coupling astigmatic beam into in-air cavity (10-24-2019)):\n",
    "\n",
    "* We are working with mirrors that have Radius of curvature symmetry in x and y so $W_{2x} = W_{2y} = W_{2}$\n",
    "    * ROC must match wavefront when it reaches mirror, this sets constraint on what the $W_{2}$ must be\n",
    "\n",
    "$$\\eta = \\frac{ 4 W_{1x}W_{1y}W^2_{2}}{(W^2_{2} + W^2_{1x})(W^2_{2} + W^2_{1y})}$$\n",
    "* The input beam waist sizes were measured from a beam scan"
   ]
  },
  {
   "cell_type": "code",
   "execution_count": 27,
   "metadata": {},
   "outputs": [],
   "source": [
    "W_inpx = 232.76e-6\n",
    "W_inpy = 136.93e-6\n",
    "W_cav = 236.4e-6"
   ]
  },
  {
   "cell_type": "code",
   "execution_count": 28,
   "metadata": {},
   "outputs": [
    {
     "name": "stdout",
     "output_type": "stream",
     "text": [
      "coupling coefficient is 86.73262800922784 %\n"
     ]
    }
   ],
   "source": [
    "eta = (4*W_inpx*W_inpy*(W_cav)**2)/((W_inpx**2 + W_cav**2)*(W_inpy**2 + W_cav**2))\n",
    "print(\"coupling coefficient is {} %\".format(eta*100))"
   ]
  },
  {
   "cell_type": "code",
   "execution_count": null,
   "metadata": {},
   "outputs": [],
   "source": []
  }
 ],
 "metadata": {
  "kernelspec": {
   "display_name": "Python 3",
   "language": "python",
   "name": "python3"
  },
  "language_info": {
   "codemirror_mode": {
    "name": "ipython",
    "version": 3
   },
   "file_extension": ".py",
   "mimetype": "text/x-python",
   "name": "python",
   "nbconvert_exporter": "python",
   "pygments_lexer": "ipython3",
   "version": "3.7.3"
  }
 },
 "nbformat": 4,
 "nbformat_minor": 2
}
