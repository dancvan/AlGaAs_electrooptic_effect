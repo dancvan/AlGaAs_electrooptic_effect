{
 "cells": [
  {
   "cell_type": "code",
   "execution_count": 1,
   "metadata": {},
   "outputs": [],
   "source": [
    "import numpy as np\n",
    "import scipy.sparse as spa\n",
    "import scipy.sparse.linalg as spalg\n",
    "from mpl_toolkits import mplot3d\n",
    "import matplotlib.pyplot as plt"
   ]
  },
  {
   "cell_type": "code",
   "execution_count": 2,
   "metadata": {},
   "outputs": [],
   "source": [
    "N = 201"
   ]
  },
  {
   "cell_type": "code",
   "execution_count": 3,
   "metadata": {},
   "outputs": [],
   "source": [
    "LAP = spa.dok_matrix((N*N, N*N),dtype=np.float32)"
   ]
  },
  {
   "cell_type": "code",
   "execution_count": 4,
   "metadata": {},
   "outputs": [
    {
     "data": {
      "text/plain": [
       "<40401x40401 sparse matrix of type '<class 'numpy.float32'>'\n",
       "\twith 0 stored elements in Dictionary Of Keys format>"
      ]
     },
     "execution_count": 4,
     "metadata": {},
     "output_type": "execute_result"
    }
   ],
   "source": [
    "LAP"
   ]
  },
  {
   "cell_type": "code",
   "execution_count": 5,
   "metadata": {},
   "outputs": [],
   "source": [
    "idx = lambda i_rho, i_z : i_rho + i_z*N"
   ]
  },
  {
   "cell_type": "code",
   "execution_count": 6,
   "metadata": {},
   "outputs": [
    {
     "data": {
      "text/plain": [
       "0"
      ]
     },
     "execution_count": 6,
     "metadata": {},
     "output_type": "execute_result"
    }
   ],
   "source": [
    "idx(0,0)"
   ]
  },
  {
   "cell_type": "code",
   "execution_count": 7,
   "metadata": {},
   "outputs": [],
   "source": [
    "LAP[idx(0,1), idx(0,1)] = -6"
   ]
  },
  {
   "cell_type": "code",
   "execution_count": 8,
   "metadata": {},
   "outputs": [],
   "source": [
    "LAP[idx(1,2), idx(1,2)] = 0"
   ]
  },
  {
   "cell_type": "code",
   "execution_count": 9,
   "metadata": {},
   "outputs": [],
   "source": [
    "for izy in range(1,(N-1)):\n",
    "        irhoy=0;\n",
    "        LAP[idx(irhoy,izy),idx(irhoy  ,izy  )]=-6;\n",
    "        LAP[idx(irhoy,izy),idx(irhoy+1,izy  )]= 4;\n",
    "        LAP[idx(irhoy,izy),idx(irhoy  ,izy-1)]= 1;\n",
    "        LAP[idx(irhoy,izy),idx(irhoy  ,izy+1)]= 1;\n",
    "        for irhoy in range(1,(N-1)): \n",
    "            n=irhoy;\n",
    "            LAP[idx(irhoy,izy),idx(irhoy  ,izy  )]=-4;\n",
    "            LAP[idx(irhoy,izy),idx(irhoy-1,izy  )]= 1-1/2/n;\n",
    "            LAP[idx(irhoy,izy),idx(irhoy+1,izy  )]= 1+1/2/n;\n",
    "            LAP[idx(irhoy,izy),idx(irhoy  ,izy-1)]= 1;\n",
    "            LAP[idx(irhoy,izy),idx(irhoy  ,izy+1)]= 1;"
   ]
  },
  {
   "cell_type": "code",
   "execution_count": null,
   "metadata": {},
   "outputs": [],
   "source": []
  }
 ],
 "metadata": {
  "kernelspec": {
   "display_name": "Python 3",
   "language": "python",
   "name": "python3"
  },
  "language_info": {
   "codemirror_mode": {
    "name": "ipython",
    "version": 3
   },
   "file_extension": ".py",
   "mimetype": "text/x-python",
   "name": "python",
   "nbconvert_exporter": "python",
   "pygments_lexer": "ipython3",
   "version": "3.7.6"
  }
 },
 "nbformat": 4,
 "nbformat_minor": 2
}
