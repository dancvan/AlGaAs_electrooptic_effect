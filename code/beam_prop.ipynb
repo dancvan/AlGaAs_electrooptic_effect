{
 "cells": [
  {
   "cell_type": "markdown",
   "metadata": {},
   "source": [
    "# Beam propagator"
   ]
  },
  {
   "cell_type": "code",
   "execution_count": 150,
   "metadata": {},
   "outputs": [],
   "source": [
    "import numpy as np\n",
    "import matplotlib.pyplot as plt"
   ]
  },
  {
   "cell_type": "markdown",
   "metadata": {},
   "source": [
    "### Setup your beam"
   ]
  },
  {
   "cell_type": "code",
   "execution_count": 163,
   "metadata": {},
   "outputs": [],
   "source": [
    "lambd = 1064e-9\n",
    "w_o = 600e-6     #Beam waist size\n",
    "z_o = w_o**2 *np.pi/lambd # intial rayleigh range\n",
    "z = np.arange(-.501,1.001,.002) # total elapsed beam propogation\n",
    "q_test = z + 1j*z_o"
   ]
  },
  {
   "cell_type": "code",
   "execution_count": 184,
   "metadata": {},
   "outputs": [],
   "source": [
    "w =np.sqrt(q_test.imag*lambd/2*np.pi)*(1+(z/z_o)**2) \n",
    "\n",
    "r = [z[i]*(1+(z_o/z[i])**2) for i in range(0,len(z))]\n"
   ]
  },
  {
   "cell_type": "code",
   "execution_count": 185,
   "metadata": {},
   "outputs": [
    {
     "data": {
      "text/plain": [
       "[<matplotlib.lines.Line2D at 0x11321fe80>]"
      ]
     },
     "execution_count": 185,
     "metadata": {},
     "output_type": "execute_result"
    },
    {
     "data": {
      "image/png": "[encoded data removed]",
      "text/plain": [
       "<Figure size 432x288 with 1 Axes>"
      ]
     },
     "metadata": {
      "needs_background": "light"
     },
     "output_type": "display_data"
    }
   ],
   "source": [
    "plt.plot(z,r)"
   ]
  },
  {
   "cell_type": "code",
   "execution_count": 186,
   "metadata": {},
   "outputs": [
    {
     "data": {
      "text/plain": [
       "<matplotlib.collections.PolyCollection at 0x1132fdcc0>"
      ]
     },
     "execution_count": 186,
     "metadata": {},
     "output_type": "execute_result"
    },
    {
     "data": {
      "image/png": "[encoded data removed]",
      "text/plain": [
       "<Figure size 432x288 with 1 Axes>"
      ]
     },
     "metadata": {
      "needs_background": "light"
     },
     "output_type": "display_data"
    }
   ],
   "source": [
    "plt.plot(z,w,'k',z,-w,'k')\n",
    "plt.fill_between(z, -w, w , color = 'red', alpha = 1)"
   ]
  },
  {
   "cell_type": "markdown",
   "metadata": {},
   "source": [
    "### Propogate through ABCD"
   ]
  },
  {
   "cell_type": "code",
   "execution_count": 131,
   "metadata": {},
   "outputs": [],
   "source": [
    "def thin_lens_mat(f): \n",
    "    return np.array([[1,0],[-1/f,1]])\n",
    "\n",
    "def space_mat(d):\n",
    "    return np.array([[1,d],[0,1]])\n",
    "\n",
    "def final_q(q_1, fin_mat): \n",
    "    return (fin_mat[0,0]*q_1 + fin_mat[0,1])/(fin_mat[1,0]*q_1 + fin_mat[1,1])\n",
    "\n",
    "def q_trans_phys(inv_q_1, wavlen): \n",
    "    w = np.sqrt(((-1.0/q_1.imag)*wavlen)/np.pi)\n",
    "    r = 1/q_1.real\n",
    "    return w , r"
   ]
  },
  {
   "cell_type": "markdown",
   "metadata": {},
   "source": [
    "### Check waist size and position"
   ]
  },
  {
   "cell_type": "code",
   "execution_count": 120,
   "metadata": {},
   "outputs": [],
   "source": [
    "q_i = 1j*z_o"
   ]
  },
  {
   "cell_type": "code",
   "execution_count": 121,
   "metadata": {},
   "outputs": [],
   "source": [
    "vec_i = np.array([[q_i],[1]])\n",
    "s_1 = space_mat(5.0e-2)\n",
    "len_1 = thin_lens_mat(7.5e-2)\n",
    "s_2 = space_mat(8.0e-2)\n",
    "len_2 = thin_lens_mat(3.0e-2)\n",
    "s_3 = space_mat(1e-2)\n"
   ]
  },
  {
   "cell_type": "code",
   "execution_count": 192,
   "metadata": {},
   "outputs": [
    {
     "data": {
      "text/plain": [
       "0.01"
      ]
     },
     "execution_count": 192,
     "metadata": {},
     "output_type": "execute_result"
    }
   ],
   "source": [
    "full_prop = [s_3,len_2, s_2, len_1, s_1]\n",
    "mat_tot  = np.linalg.multi_dot(full_prop)\n",
    "full_prop[][0,1]"
   ]
  },
  {
   "cell_type": "code",
   "execution_count": 204,
   "metadata": {},
   "outputs": [],
   "source": [
    "full_prop_rev = full_prop[::-1]"
   ]
  },
  {
   "cell_type": "code",
   "execution_count": 197,
   "metadata": {},
   "outputs": [
    {
     "ename": "SyntaxError",
     "evalue": "invalid syntax (<ipython-input-197-cd46c9188b87>, line 7)",
     "output_type": "error",
     "traceback": [
      "\u001b[0;36m  File \u001b[0;32m\"<ipython-input-197-cd46c9188b87>\"\u001b[0;36m, line \u001b[0;32m7\u001b[0m\n\u001b[0;31m    current_mat =\u001b[0m\n\u001b[0m                  ^\u001b[0m\n\u001b[0;31mSyntaxError\u001b[0m\u001b[0;31m:\u001b[0m invalid syntax\n"
     ]
    }
   ],
   "source": [
    "current_mat = np.eye(2)\n",
    "for i in range(0,len(full_prop)): \n",
    "    if full_prop[i][2,1]!=0:\n",
    "        current_mat = np.linalg.multi_dot([full_prop_rev,current_mat])\n",
    "        q_o = final_q(q_o,current_mat)\n",
    "    if full_prop[i][1,2]!=0: \n",
    "        current_mat = \n",
    "        z_vect = \n",
    "        w = "
   ]
  },
  {
   "cell_type": "code",
   "execution_count": 198,
   "metadata": {},
   "outputs": [],
   "source": [
    "current_mat = np.eye(2)"
   ]
  },
  {
   "cell_type": "code",
   "execution_count": 123,
   "metadata": {},
   "outputs": [],
   "source": [
    "q_f  = final_q(q_i, mat_tot)"
   ]
  },
  {
   "cell_type": "code",
   "execution_count": 135,
   "metadata": {},
   "outputs": [
    {
     "data": {
      "text/plain": [
       "(54.58105783789314-27.485384647671733j)"
      ]
     },
     "execution_count": 135,
     "metadata": {},
     "output_type": "execute_result"
    }
   ],
   "source": [
    "1/q_f"
   ]
  },
  {
   "cell_type": "code",
   "execution_count": 139,
   "metadata": {},
   "outputs": [],
   "source": [
    "[w_f, r_f] = q_trans(1/q_f, lambd)"
   ]
  },
  {
   "cell_type": "code",
   "execution_count": 141,
   "metadata": {},
   "outputs": [
    {
     "data": {
      "text/plain": [
       "0.00011100562031500466"
      ]
     },
     "execution_count": 141,
     "metadata": {},
     "output_type": "execute_result"
    }
   ],
   "source": [
    "w_f"
   ]
  },
  {
   "cell_type": "code",
   "execution_count": 142,
   "metadata": {},
   "outputs": [
    {
     "data": {
      "text/plain": [
       "0.018321374477021323"
      ]
     },
     "execution_count": 142,
     "metadata": {},
     "output_type": "execute_result"
    }
   ],
   "source": [
    "r_f"
   ]
  },
  {
   "cell_type": "code",
   "execution_count": null,
   "metadata": {},
   "outputs": [],
   "source": []
  }
 ],
 "metadata": {
  "kernelspec": {
   "display_name": "Python 3",
   "language": "python",
   "name": "python3"
  },
  "language_info": {
   "codemirror_mode": {
    "name": "ipython",
    "version": 3
   },
   "file_extension": ".py",
   "mimetype": "text/x-python",
   "name": "python",
   "nbconvert_exporter": "python",
   "pygments_lexer": "ipython3",
   "version": "3.7.3"
  }
 },
 "nbformat": 4,
 "nbformat_minor": 2
}
